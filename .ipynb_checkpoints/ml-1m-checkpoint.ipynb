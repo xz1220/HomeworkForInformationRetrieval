{
 "cells": [
  {
   "cell_type": "code",
   "execution_count": 1,
   "metadata": {},
   "outputs": [
    {
     "name": "stderr",
     "output_type": "stream",
     "text": [
      "C:\\Users\\30249\\Anaconda3\\lib\\site-packages\\h5py\\__init__.py:36: FutureWarning: Conversion of the second argument of issubdtype from `float` to `np.floating` is deprecated. In future, it will be treated as `np.float64 == np.dtype(float).type`.\n",
      "  from ._conv import register_converters as _register_converters\n",
      "Using TensorFlow backend.\n"
     ]
    }
   ],
   "source": [
    "import numpy as np\n",
    "import pandas as pd\n",
    "from keras import Model\n",
    "import keras.backend as K\n",
    "from keras.layers import Embedding,Reshape,Input,Dot\n",
    "import keras"
   ]
  },
  {
   "cell_type": "code",
   "execution_count": 2,
   "metadata": {},
   "outputs": [
    {
     "name": "stderr",
     "output_type": "stream",
     "text": [
      "C:\\Users\\30249\\Anaconda3\\lib\\site-packages\\ipykernel_launcher.py:8: ParserWarning: Falling back to the 'python' engine because the 'c' engine does not support regex separators (separators > 1 char and different from '\\s+' are interpreted as regex); you can avoid this warning by specifying engine='python'.\n",
      "  \n"
     ]
    },
    {
     "name": "stdout",
     "output_type": "stream",
     "text": [
      "800167 100021 100021\n"
     ]
    }
   ],
   "source": [
    "'''\n",
    "- UserIDs range between 1 and 6040 \n",
    "- MovieIDs range between 1 and 3952\n",
    "- Ratings are made on a 5-star scale (whole-star ratings only)\n",
    "- Timestamp is represented in seconds since the epoch as returned by time(2)\n",
    "- Each user has at least 20 ratings\n",
    "'''\n",
    "rating_data=pd.read_csv(\"./ml-1m/ratings.dat\",header=None,names=[\"UserID\",\"MovieID\",\"Rating\",\"Timestamp\"],sep='::')\n",
    "rating_data=rating_data.sample(frac=1)\n",
    "#len(rating_data)\n",
    "traindata=rating_data[:int(len(rating_data)*8/10)]\n",
    "validdata=rating_data[int(len(rating_data)*8/10):int(len(rating_data)*9/10)]\n",
    "testdata=rating_data[int(len(rating_data)*9/10):]\n",
    "print(len(traindata),len(validdata),len(testdata))"
   ]
  },
  {
   "cell_type": "code",
   "execution_count": 41,
   "metadata": {},
   "outputs": [
    {
     "name": "stdout",
     "output_type": "stream",
     "text": [
      "6040 3952 800167\n"
     ]
    }
   ],
   "source": [
    "num_user = np.max(traindata[\"UserID\"])\n",
    "num_movie = np.max(traindata[\"MovieID\"])\n",
    "print(num_user,num_movie,len(traindata))"
   ]
  },
  {
   "cell_type": "code",
   "execution_count": 42,
   "metadata": {},
   "outputs": [],
   "source": [
    "K.clear_session()\n",
    "def Recmand_model(num_user,num_movie,k):\n",
    "    input_uer = Input(shape=[None,],dtype=\"int32\")\n",
    "    print(input_uer)\n",
    "    model_uer = Embedding(num_user+1,k,input_length = 1)(input_uer)\n",
    "    model_uer = Reshape((k,))(model_uer)\n",
    "    \n",
    "    input_movie = Input(shape=[None,],dtype=\"int32\")\n",
    "    model_movie  = Embedding(num_movie+1,k,input_length = 1)(input_movie)\n",
    "    model_movie = Reshape((k,))(model_movie)\n",
    "    \n",
    "    out = Dot(1)([model_uer,model_movie])\n",
    "    model = Model(inputs=[input_uer,input_movie], outputs=out)\n",
    "    model.compile(loss='mse', optimizer='Adam')\n",
    "    model.summary()\n",
    "    return model"
   ]
  },
  {
   "cell_type": "code",
   "execution_count": 43,
   "metadata": {},
   "outputs": [
    {
     "name": "stdout",
     "output_type": "stream",
     "text": [
      "Tensor(\"input_1:0\", shape=(?, ?), dtype=int32)\n",
      "__________________________________________________________________________________________________\n",
      "Layer (type)                    Output Shape         Param #     Connected to                     \n",
      "==================================================================================================\n",
      "input_1 (InputLayer)            (None, None)         0                                            \n",
      "__________________________________________________________________________________________________\n",
      "input_2 (InputLayer)            (None, None)         0                                            \n",
      "__________________________________________________________________________________________________\n",
      "embedding_1 (Embedding)         (None, 1, 100)       604100      input_1[0][0]                    \n",
      "__________________________________________________________________________________________________\n",
      "embedding_2 (Embedding)         (None, 1, 100)       395300      input_2[0][0]                    \n",
      "__________________________________________________________________________________________________\n",
      "reshape_1 (Reshape)             (None, 100)          0           embedding_1[0][0]                \n",
      "__________________________________________________________________________________________________\n",
      "reshape_2 (Reshape)             (None, 100)          0           embedding_2[0][0]                \n",
      "__________________________________________________________________________________________________\n",
      "dot_1 (Dot)                     (None, 1)            0           reshape_1[0][0]                  \n",
      "                                                                 reshape_2[0][0]                  \n",
      "==================================================================================================\n",
      "Total params: 999,400\n",
      "Trainable params: 999,400\n",
      "Non-trainable params: 0\n",
      "__________________________________________________________________________________________________\n"
     ]
    }
   ],
   "source": [
    "model = Recmand_model(num_user,num_movie,100)"
   ]
  },
  {
   "cell_type": "code",
   "execution_count": 44,
   "metadata": {},
   "outputs": [],
   "source": [
    "train_user = traindata[\"UserID\"].values\n",
    "train_movie = traindata[\"MovieID\"].values\n",
    "train_x = [train_user,train_movie]\n",
    "train_y = traindata[\"Rating\"].values\n",
    "\n",
    "valid_user = validdata[\"UserID\"].values\n",
    "valid_movie = validdata[\"MovieID\"].values\n",
    "valid_x = [valid_user,valid_movie]\n",
    "valid_y = validdata[\"Rating\"].values"
   ]
  },
  {
   "cell_type": "code",
   "execution_count": 45,
   "metadata": {},
   "outputs": [
    {
     "name": "stdout",
     "output_type": "stream",
     "text": [
      "Train on 800167 samples, validate on 100021 samples\n",
      "Epoch 1/200\n",
      "800167/800167 [==============================] - 1s 1us/step - loss: 14.0753 - val_loss: 14.0467\n",
      "Epoch 2/200\n",
      "800167/800167 [==============================] - 0s 0us/step - loss: 14.0646 - val_loss: 14.0398\n",
      "Epoch 3/200\n",
      "800167/800167 [==============================] - 0s 0us/step - loss: 14.0454 - val_loss: 14.0144\n",
      "Epoch 4/200\n",
      "800167/800167 [==============================] - 0s 0us/step - loss: 14.0006 - val_loss: 13.9483\n",
      "Epoch 5/200\n",
      "800167/800167 [==============================] - 0s 0us/step - loss: 13.9046 - val_loss: 13.8113\n",
      "Epoch 6/200\n",
      "800167/800167 [==============================] - 0s 0us/step - loss: 13.7257 - val_loss: 13.5711\n",
      "Epoch 7/200\n",
      "800167/800167 [==============================] - 0s 0us/step - loss: 13.4317 - val_loss: 13.1986\n",
      "Epoch 8/200\n",
      "800167/800167 [==============================] - 0s 0us/step - loss: 12.9970 - val_loss: 12.6745\n",
      "Epoch 9/200\n",
      "800167/800167 [==============================] - 0s 0us/step - loss: 12.4078 - val_loss: 11.9942\n",
      "Epoch 10/200\n",
      "800167/800167 [==============================] - 0s 0us/step - loss: 11.6653 - val_loss: 11.1694\n",
      "Epoch 11/200\n",
      "800167/800167 [==============================] - 0s 0us/step - loss: 10.7869 - val_loss: 10.2237\n",
      "Epoch 12/200\n",
      "800167/800167 [==============================] - 0s 0us/step - loss: 9.8010 - val_loss: 9.1937\n",
      "Epoch 13/200\n",
      "800167/800167 [==============================] - 0s 0us/step - loss: 8.7464 - val_loss: 8.1217\n",
      "Epoch 14/200\n",
      "800167/800167 [==============================] - 0s 0us/step - loss: 7.6699 - val_loss: 7.0560\n",
      "Epoch 15/200\n",
      "800167/800167 [==============================] - 0s 0us/step - loss: 6.6177 - val_loss: 6.0386\n",
      "Epoch 16/200\n",
      "800167/800167 [==============================] - 0s 0us/step - loss: 5.6282 - val_loss: 5.1039\n",
      "Epoch 17/200\n",
      "800167/800167 [==============================] - 0s 0us/step - loss: 4.7358 - val_loss: 4.2829\n",
      "Epoch 18/200\n",
      "800167/800167 [==============================] - 0s 0us/step - loss: 3.9646 - val_loss: 3.5897\n",
      "Epoch 19/200\n",
      "800167/800167 [==============================] - 0s 0us/step - loss: 3.3241 - val_loss: 3.0256\n",
      "Epoch 20/200\n",
      "800167/800167 [==============================] - 0s 0us/step - loss: 2.8089 - val_loss: 2.5792\n",
      "Epoch 21/200\n",
      "800167/800167 [==============================] - 0s 0us/step - loss: 2.4051 - val_loss: 2.2327\n",
      "Epoch 22/200\n",
      "800167/800167 [==============================] - 0s 0us/step - loss: 2.0933 - val_loss: 1.9680\n",
      "Epoch 23/200\n",
      "800167/800167 [==============================] - 0s 0us/step - loss: 1.8566 - val_loss: 1.7674\n",
      "Epoch 24/200\n",
      "800167/800167 [==============================] - 0s 0us/step - loss: 1.6759 - val_loss: 1.6122\n",
      "Epoch 25/200\n",
      "800167/800167 [==============================] - 0s 0us/step - loss: 1.5351 - val_loss: 1.4900\n",
      "Epoch 26/200\n",
      "800167/800167 [==============================] - 0s 0us/step - loss: 1.4230 - val_loss: 1.3919\n",
      "Epoch 27/200\n",
      "800167/800167 [==============================] - 0s 0us/step - loss: 1.3328 - val_loss: 1.3128\n",
      "Epoch 28/200\n",
      "800167/800167 [==============================] - 0s 0us/step - loss: 1.2591 - val_loss: 1.2476\n",
      "Epoch 29/200\n",
      "800167/800167 [==============================] - 0s 0us/step - loss: 1.1981 - val_loss: 1.1935\n",
      "Epoch 30/200\n",
      "800167/800167 [==============================] - 0s 0us/step - loss: 1.1477 - val_loss: 1.1488\n",
      "Epoch 31/200\n",
      "800167/800167 [==============================] - 0s 0us/step - loss: 1.1056 - val_loss: 1.1112\n",
      "Epoch 32/200\n",
      "800167/800167 [==============================] - 0s 0us/step - loss: 1.0699 - val_loss: 1.0796\n",
      "Epoch 33/200\n",
      "800167/800167 [==============================] - 0s 0us/step - loss: 1.0398 - val_loss: 1.0528\n",
      "Epoch 34/200\n",
      "800167/800167 [==============================] - 0s 0us/step - loss: 1.0141 - val_loss: 1.0299\n",
      "Epoch 35/200\n",
      "800167/800167 [==============================] - 0s 0us/step - loss: 0.9921 - val_loss: 1.0100\n",
      "Epoch 36/200\n",
      "800167/800167 [==============================] - 0s 0us/step - loss: 0.9732 - val_loss: 0.9928\n",
      "Epoch 37/200\n",
      "800167/800167 [==============================] - 0s 0us/step - loss: 0.9565 - val_loss: 0.9775\n",
      "Epoch 38/200\n",
      "800167/800167 [==============================] - 0s 0us/step - loss: 0.9420 - val_loss: 0.9642\n",
      "Epoch 39/200\n",
      "800167/800167 [==============================] - 0s 0us/step - loss: 0.9292 - val_loss: 0.9525\n",
      "Epoch 40/200\n",
      "800167/800167 [==============================] - 0s 0us/step - loss: 0.9181 - val_loss: 0.9428\n",
      "Epoch 41/200\n",
      "800167/800167 [==============================] - 0s 0us/step - loss: 0.9087 - val_loss: 0.9346\n",
      "Epoch 42/200\n",
      "800167/800167 [==============================] - 0s 0us/step - loss: 0.9002 - val_loss: 0.9270\n",
      "Epoch 43/200\n",
      "800167/800167 [==============================] - 0s 0us/step - loss: 0.8926 - val_loss: 0.9199\n",
      "Epoch 44/200\n",
      "800167/800167 [==============================] - 0s 0us/step - loss: 0.8855 - val_loss: 0.9133\n",
      "Epoch 45/200\n",
      "800167/800167 [==============================] - 0s 0us/step - loss: 0.8793 - val_loss: 0.9076\n",
      "Epoch 46/200\n",
      "800167/800167 [==============================] - 0s 0us/step - loss: 0.8739 - val_loss: 0.9028\n",
      "Epoch 47/200\n",
      "800167/800167 [==============================] - 0s 0us/step - loss: 0.8692 - val_loss: 0.8985\n",
      "Epoch 48/200\n",
      "800167/800167 [==============================] - 0s 0us/step - loss: 0.8651 - val_loss: 0.8947\n",
      "Epoch 49/200\n",
      "800167/800167 [==============================] - 0s 0us/step - loss: 0.8613 - val_loss: 0.8914\n",
      "Epoch 50/200\n",
      "800167/800167 [==============================] - 0s 0us/step - loss: 0.8577 - val_loss: 0.8881\n",
      "Epoch 51/200\n",
      "800167/800167 [==============================] - 0s 0us/step - loss: 0.8544 - val_loss: 0.8848\n",
      "Epoch 52/200\n",
      "800167/800167 [==============================] - 0s 0us/step - loss: 0.8513 - val_loss: 0.8817\n",
      "Epoch 53/200\n",
      "800167/800167 [==============================] - 0s 0us/step - loss: 0.8483 - val_loss: 0.8791\n",
      "Epoch 54/200\n",
      "800167/800167 [==============================] - 0s 0us/step - loss: 0.8456 - val_loss: 0.8763\n",
      "Epoch 55/200\n",
      "800167/800167 [==============================] - 0s 0us/step - loss: 0.8430 - val_loss: 0.8741\n",
      "Epoch 56/200\n",
      "800167/800167 [==============================] - 0s 0us/step - loss: 0.8406 - val_loss: 0.8721\n",
      "Epoch 57/200\n",
      "800167/800167 [==============================] - 0s 0us/step - loss: 0.8382 - val_loss: 0.8702\n",
      "Epoch 58/200\n",
      "800167/800167 [==============================] - 0s 0us/step - loss: 0.8360 - val_loss: 0.8686\n",
      "Epoch 59/200\n",
      "800167/800167 [==============================] - 0s 0us/step - loss: 0.8338 - val_loss: 0.8668\n",
      "Epoch 60/200\n",
      "800167/800167 [==============================] - 0s 0us/step - loss: 0.8317 - val_loss: 0.8649\n",
      "Epoch 61/200\n",
      "800167/800167 [==============================] - 0s 0us/step - loss: 0.8300 - val_loss: 0.8637\n",
      "Epoch 62/200\n",
      "800167/800167 [==============================] - 0s 0us/step - loss: 0.8283 - val_loss: 0.8626\n",
      "Epoch 63/200\n",
      "800167/800167 [==============================] - 0s 0us/step - loss: 0.8268 - val_loss: 0.8616\n",
      "Epoch 64/200\n",
      "800167/800167 [==============================] - 0s 0us/step - loss: 0.8253 - val_loss: 0.8602\n",
      "Epoch 65/200\n",
      "800167/800167 [==============================] - 0s 0us/step - loss: 0.8238 - val_loss: 0.8589\n",
      "Epoch 66/200\n",
      "800167/800167 [==============================] - 0s 0us/step - loss: 0.8224 - val_loss: 0.8577\n",
      "Epoch 67/200\n",
      "800167/800167 [==============================] - 0s 0us/step - loss: 0.8210 - val_loss: 0.8566\n",
      "Epoch 68/200\n",
      "800167/800167 [==============================] - 0s 0us/step - loss: 0.8196 - val_loss: 0.8556\n",
      "Epoch 69/200\n",
      "800167/800167 [==============================] - 0s 0us/step - loss: 0.8182 - val_loss: 0.8545\n",
      "Epoch 70/200\n",
      "800167/800167 [==============================] - 0s 0us/step - loss: 0.8171 - val_loss: 0.8537\n",
      "Epoch 71/200\n",
      "800167/800167 [==============================] - 0s 0us/step - loss: 0.8162 - val_loss: 0.8533\n",
      "Epoch 72/200\n",
      "800167/800167 [==============================] - 0s 0us/step - loss: 0.8153 - val_loss: 0.8526\n",
      "Epoch 73/200\n",
      "800167/800167 [==============================] - 0s 0us/step - loss: 0.8142 - val_loss: 0.8518\n",
      "Epoch 74/200\n",
      "800167/800167 [==============================] - 0s 0us/step - loss: 0.8131 - val_loss: 0.8510\n",
      "Epoch 75/200\n",
      "800167/800167 [==============================] - 0s 0us/step - loss: 0.8120 - val_loss: 0.8500\n",
      "Epoch 76/200\n",
      "800167/800167 [==============================] - 0s 0us/step - loss: 0.8108 - val_loss: 0.8490\n",
      "Epoch 77/200\n",
      "800167/800167 [==============================] - 0s 0us/step - loss: 0.8095 - val_loss: 0.8480\n",
      "Epoch 78/200\n",
      "800167/800167 [==============================] - 0s 0us/step - loss: 0.8084 - val_loss: 0.8470\n",
      "Epoch 79/200\n",
      "800167/800167 [==============================] - 0s 0us/step - loss: 0.8076 - val_loss: 0.8462\n",
      "Epoch 80/200\n",
      "800167/800167 [==============================] - 0s 0us/step - loss: 0.8069 - val_loss: 0.8454\n",
      "Epoch 81/200\n",
      "800167/800167 [==============================] - 0s 0us/step - loss: 0.8062 - val_loss: 0.8447\n",
      "Epoch 82/200\n",
      "800167/800167 [==============================] - 0s 0us/step - loss: 0.8053 - val_loss: 0.8446\n",
      "Epoch 83/200\n",
      "800167/800167 [==============================] - 0s 0us/step - loss: 0.8046 - val_loss: 0.8440\n",
      "Epoch 84/200\n",
      "800167/800167 [==============================] - 0s 0us/step - loss: 0.8039 - val_loss: 0.8434\n",
      "Epoch 85/200\n",
      "800167/800167 [==============================] - 0s 0us/step - loss: 0.8032 - val_loss: 0.8428\n",
      "Epoch 86/200\n",
      "800167/800167 [==============================] - 0s 0us/step - loss: 0.8025 - val_loss: 0.8418\n",
      "Epoch 87/200\n",
      "800167/800167 [==============================] - 0s 0us/step - loss: 0.8017 - val_loss: 0.8412\n",
      "Epoch 88/200\n",
      "800167/800167 [==============================] - 0s 0us/step - loss: 0.8009 - val_loss: 0.8403\n",
      "Epoch 89/200\n",
      "800167/800167 [==============================] - 0s 0us/step - loss: 0.8001 - val_loss: 0.8395\n",
      "Epoch 90/200\n",
      "800167/800167 [==============================] - 0s 0us/step - loss: 0.7990 - val_loss: 0.8388\n",
      "Epoch 91/200\n",
      "800167/800167 [==============================] - 0s 0us/step - loss: 0.7977 - val_loss: 0.8380\n",
      "Epoch 92/200\n",
      "800167/800167 [==============================] - 0s 0us/step - loss: 0.7967 - val_loss: 0.8373\n",
      "Epoch 93/200\n",
      "800167/800167 [==============================] - 0s 0us/step - loss: 0.7959 - val_loss: 0.8370\n",
      "Epoch 94/200\n",
      "800167/800167 [==============================] - 0s 0us/step - loss: 0.7952 - val_loss: 0.8368\n",
      "Epoch 95/200\n",
      "800167/800167 [==============================] - 0s 0us/step - loss: 0.7946 - val_loss: 0.8363\n",
      "Epoch 96/200\n",
      "800167/800167 [==============================] - 0s 0us/step - loss: 0.7938 - val_loss: 0.8357\n",
      "Epoch 97/200\n",
      "800167/800167 [==============================] - 0s 0us/step - loss: 0.7928 - val_loss: 0.8352\n",
      "Epoch 98/200\n",
      "800167/800167 [==============================] - 0s 0us/step - loss: 0.7920 - val_loss: 0.8349\n",
      "Epoch 99/200\n",
      "800167/800167 [==============================] - 0s 0us/step - loss: 0.7914 - val_loss: 0.8346\n",
      "Epoch 100/200\n",
      "800167/800167 [==============================] - 0s 0us/step - loss: 0.7908 - val_loss: 0.8348\n",
      "Epoch 101/200\n",
      "800167/800167 [==============================] - 0s 0us/step - loss: 0.7900 - val_loss: 0.8340\n",
      "Epoch 102/200\n",
      "800167/800167 [==============================] - 0s 0us/step - loss: 0.7888 - val_loss: 0.8337\n",
      "Epoch 103/200\n",
      "800167/800167 [==============================] - 0s 0us/step - loss: 0.7878 - val_loss: 0.8334\n",
      "Epoch 104/200\n",
      "800167/800167 [==============================] - 0s 0us/step - loss: 0.7869 - val_loss: 0.8326\n",
      "Epoch 105/200\n",
      "800167/800167 [==============================] - 0s 0us/step - loss: 0.7860 - val_loss: 0.8319\n",
      "Epoch 106/200\n",
      "800167/800167 [==============================] - 0s 0us/step - loss: 0.7854 - val_loss: 0.8317\n",
      "Epoch 107/200\n",
      "800167/800167 [==============================] - 0s 0us/step - loss: 0.7849 - val_loss: 0.8314\n",
      "Epoch 108/200\n",
      "800167/800167 [==============================] - 0s 0us/step - loss: 0.7842 - val_loss: 0.8312\n",
      "Epoch 109/200\n",
      "800167/800167 [==============================] - 0s 0us/step - loss: 0.7836 - val_loss: 0.8314\n",
      "Epoch 110/200\n",
      "800167/800167 [==============================] - 0s 0us/step - loss: 0.7834 - val_loss: 0.8311\n",
      "Epoch 111/200\n",
      "800167/800167 [==============================] - 0s 0us/step - loss: 0.7828 - val_loss: 0.8306\n",
      "Epoch 112/200\n",
      "800167/800167 [==============================] - 0s 0us/step - loss: 0.7816 - val_loss: 0.8299\n",
      "Epoch 113/200\n",
      "800167/800167 [==============================] - 0s 0us/step - loss: 0.7805 - val_loss: 0.8294\n",
      "Epoch 114/200\n",
      "800167/800167 [==============================] - 0s 0us/step - loss: 0.7794 - val_loss: 0.8288\n",
      "Epoch 115/200\n",
      "800167/800167 [==============================] - 0s 0us/step - loss: 0.7783 - val_loss: 0.8286\n",
      "Epoch 116/200\n",
      "800167/800167 [==============================] - 0s 0us/step - loss: 0.7775 - val_loss: 0.8282\n",
      "Epoch 117/200\n",
      "800167/800167 [==============================] - 0s 0us/step - loss: 0.7769 - val_loss: 0.8277\n",
      "Epoch 118/200\n",
      "800167/800167 [==============================] - 0s 0us/step - loss: 0.7760 - val_loss: 0.8272\n",
      "Epoch 119/200\n",
      "800167/800167 [==============================] - 0s 0us/step - loss: 0.7755 - val_loss: 0.8273\n",
      "Epoch 120/200\n",
      "800167/800167 [==============================] - 0s 0us/step - loss: 0.7750 - val_loss: 0.8271\n",
      "Epoch 121/200\n",
      "800167/800167 [==============================] - 0s 0us/step - loss: 0.7744 - val_loss: 0.8269\n",
      "Epoch 122/200\n",
      "800167/800167 [==============================] - 0s 0us/step - loss: 0.7741 - val_loss: 0.8267\n",
      "Epoch 123/200\n",
      "800167/800167 [==============================] - 0s 0us/step - loss: 0.7736 - val_loss: 0.8260\n",
      "Epoch 124/200\n",
      "800167/800167 [==============================] - 0s 0us/step - loss: 0.7726 - val_loss: 0.8254\n",
      "Epoch 125/200\n",
      "800167/800167 [==============================] - 0s 0us/step - loss: 0.7714 - val_loss: 0.8247\n",
      "Epoch 126/200\n",
      "800167/800167 [==============================] - 0s 0us/step - loss: 0.7703 - val_loss: 0.8241\n",
      "Epoch 127/200\n",
      "800167/800167 [==============================] - 0s 0us/step - loss: 0.7693 - val_loss: 0.8240\n",
      "Epoch 128/200\n",
      "800167/800167 [==============================] - 0s 0us/step - loss: 0.7689 - val_loss: 0.8241\n",
      "Epoch 129/200\n",
      "800167/800167 [==============================] - 0s 0us/step - loss: 0.7685 - val_loss: 0.8238\n",
      "Epoch 130/200\n",
      "800167/800167 [==============================] - 0s 0us/step - loss: 0.7678 - val_loss: 0.8236\n",
      "Epoch 131/200\n",
      "800167/800167 [==============================] - 0s 0us/step - loss: 0.7673 - val_loss: 0.8235\n",
      "Epoch 132/200\n",
      "800167/800167 [==============================] - 0s 0us/step - loss: 0.7668 - val_loss: 0.8233\n",
      "Epoch 133/200\n",
      "800167/800167 [==============================] - 0s 0us/step - loss: 0.7662 - val_loss: 0.8232\n",
      "Epoch 134/200\n",
      "800167/800167 [==============================] - 0s 0us/step - loss: 0.7656 - val_loss: 0.8227\n",
      "Epoch 135/200\n",
      "800167/800167 [==============================] - 0s 0us/step - loss: 0.7649 - val_loss: 0.8221\n",
      "Epoch 136/200\n",
      "800167/800167 [==============================] - 0s 0us/step - loss: 0.7643 - val_loss: 0.8219\n",
      "Epoch 137/200\n",
      "800167/800167 [==============================] - 0s 0us/step - loss: 0.7635 - val_loss: 0.8217\n",
      "Epoch 138/200\n",
      "800167/800167 [==============================] - 0s 0us/step - loss: 0.7627 - val_loss: 0.8213\n",
      "Epoch 139/200\n",
      "800167/800167 [==============================] - 0s 0us/step - loss: 0.7619 - val_loss: 0.8211\n",
      "Epoch 140/200\n",
      "800167/800167 [==============================] - 0s 0us/step - loss: 0.7614 - val_loss: 0.8212\n",
      "Epoch 141/200\n",
      "800167/800167 [==============================] - 0s 0us/step - loss: 0.7608 - val_loss: 0.8208\n",
      "Epoch 142/200\n",
      "800167/800167 [==============================] - 0s 0us/step - loss: 0.7602 - val_loss: 0.8203\n",
      "Epoch 143/200\n",
      "800167/800167 [==============================] - 0s 0us/step - loss: 0.7592 - val_loss: 0.8196\n",
      "Epoch 144/200\n",
      "800167/800167 [==============================] - 0s 0us/step - loss: 0.7583 - val_loss: 0.8190\n",
      "Epoch 145/200\n",
      "800167/800167 [==============================] - 0s 0us/step - loss: 0.7574 - val_loss: 0.8186\n",
      "Epoch 146/200\n",
      "800167/800167 [==============================] - 0s 0us/step - loss: 0.7567 - val_loss: 0.8180\n",
      "Epoch 147/200\n",
      "800167/800167 [==============================] - 0s 0us/step - loss: 0.7560 - val_loss: 0.8175\n",
      "Epoch 148/200\n",
      "800167/800167 [==============================] - 0s 0us/step - loss: 0.7554 - val_loss: 0.8172\n",
      "Epoch 149/200\n",
      "800167/800167 [==============================] - 0s 0us/step - loss: 0.7547 - val_loss: 0.8169\n",
      "Epoch 150/200\n",
      "800167/800167 [==============================] - 0s 0us/step - loss: 0.7537 - val_loss: 0.8161\n",
      "Epoch 151/200\n",
      "800167/800167 [==============================] - 0s 0us/step - loss: 0.7527 - val_loss: 0.8157\n",
      "Epoch 152/200\n",
      "800167/800167 [==============================] - 0s 0us/step - loss: 0.7520 - val_loss: 0.8159\n",
      "Epoch 153/200\n",
      "800167/800167 [==============================] - 0s 0us/step - loss: 0.7516 - val_loss: 0.8158\n"
     ]
    }
   ],
   "source": [
    "history=model.fit(train_x,train_y,batch_size = 100000,epochs =200,callbacks=[keras.callbacks.EarlyStopping(monitor='val_loss', patience=2, verbose=0)],validation_data=(valid_x,valid_y))"
   ]
  },
  {
   "cell_type": "code",
   "execution_count": 46,
   "metadata": {},
   "outputs": [],
   "source": [
    "pre=model.predict([testdata[\"UserID\"].values,testdata[\"MovieID\"].values])"
   ]
  },
  {
   "cell_type": "code",
   "execution_count": 47,
   "metadata": {},
   "outputs": [
    {
     "name": "stdout",
     "output_type": "stream",
     "text": [
      "100021/100021 [==============================] - 3s 30us/step\n"
     ]
    }
   ],
   "source": [
    "test=model.evaluate([testdata[\"UserID\"].values,testdata[\"MovieID\"].values],testdata[\"Rating\"].values)"
   ]
  },
  {
   "cell_type": "code",
   "execution_count": 48,
   "metadata": {},
   "outputs": [
    {
     "data": {
      "text/plain": [
       "0.808710118883095"
      ]
     },
     "execution_count": 48,
     "metadata": {},
     "output_type": "execute_result"
    }
   ],
   "source": [
    "test"
   ]
  },
  {
   "cell_type": "code",
   "execution_count": 53,
   "metadata": {},
   "outputs": [],
   "source": [
    "from keras.utils import plot_model\n",
    "plot_model(model, to_file='./img/model_p.png')"
   ]
  },
  {
   "cell_type": "code",
   "execution_count": 52,
   "metadata": {},
   "outputs": [
    {
     "data": {
      "image/png": "[encoded data removed]",
      "text/plain": [
       "<Figure size 432x288 with 1 Axes>"
      ]
     },
     "metadata": {},
     "output_type": "display_data"
    }
   ],
   "source": [
    "import matplotlib.pyplot as plt\n",
    "\n",
    "\n",
    "# 绘制训练 & 验证的准确率值\n",
    "plt.plot(history.history['loss'])\n",
    "plt.plot(history.history['val_loss'])\n",
    "plt.title('Model loss')\n",
    "plt.ylabel('loss')\n",
    "plt.xlabel('Epoch')\n",
    "plt.legend(['Train', 'Validation'], loc='upper left')\n",
    "plt.savefig(\"./img/model_loss.png\")\n",
    "plt.show()"
   ]
  },
  {
   "cell_type": "code",
   "execution_count": 21,
   "metadata": {},
   "outputs": [
    {
     "data": {
      "text/plain": [
       "array([5005, 4983, 4785, ..., 4868, 4907, 5530], dtype=int64)"
      ]
     },
     "execution_count": 21,
     "metadata": {},
     "output_type": "execute_result"
    }
   ],
   "source": [
    "train_user"
   ]
  },
  {
   "cell_type": "code",
   "execution_count": null,
   "metadata": {},
   "outputs": [],
   "source": []
  }
 ],
 "metadata": {
  "kernelspec": {
   "display_name": "Python 3",
   "language": "python",
   "name": "python3"
  },
  "language_info": {
   "codemirror_mode": {
    "name": "ipython",
    "version": 3
   },
   "file_extension": ".py",
   "mimetype": "text/x-python",
   "name": "python",
   "nbconvert_exporter": "python",
   "pygments_lexer": "ipython3",
   "version": "3.6.5"
  }
 },
 "nbformat": 4,
 "nbformat_minor": 2
}
